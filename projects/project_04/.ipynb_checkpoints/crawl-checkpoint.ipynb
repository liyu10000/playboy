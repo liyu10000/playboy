{
 "cells": [
  {
   "cell_type": "code",
   "execution_count": 1,
   "metadata": {},
   "outputs": [],
   "source": [
    "import requests\n",
    "import csv\n",
    "from bs4 import BeautifulSoup"
   ]
  },
  {
   "cell_type": "code",
   "execution_count": 2,
   "metadata": {},
   "outputs": [],
   "source": [
    "url = \"http://bj.58.com/pinpaigongyu/pn/{page}/?minprice={minprice}_{maxprice}\"\n",
    "\n",
    "page = 0\n",
    "minprice = 2000\n",
    "maxprice = 4000"
   ]
  },
  {
   "cell_type": "code",
   "execution_count": 4,
   "metadata": {},
   "outputs": [
    {
     "name": "stdout",
     "output_type": "stream",
     "text": [
      "fetch: http://bj.58.com/pinpaigongyu/pn/0/?minprice=2000_4000\n"
     ]
    }
   ],
   "source": [
    "url_page = url.format(page=page,minprice=minprice,maxprice=maxprice)\n",
    "print(\"fetch: \" + url_page)\n",
    "response = requests.get(url_page)\n",
    "html = BeautifulSoup(response.text, \"html5lib\")"
   ]
  },
  {
   "cell_type": "code",
   "execution_count": 9,
   "metadata": {},
   "outputs": [
    {
     "name": "stdout",
     "output_type": "stream",
     "text": [
      "content\n"
     ]
    }
   ],
   "source": [
    "#print(html.select(\"ul.list > li\")[0])\n",
    "house_list = html.select(\"ul.list > li\")\n",
    "if not house_list:\n",
    "    print(\"no content\")\n",
    "else:\n",
    "    print(\"content\")"
   ]
  },
  {
   "cell_type": "code",
   "execution_count": 11,
   "metadata": {},
   "outputs": [
    {
     "name": "stdout",
     "output_type": "stream",
     "text": [
      "['【整租】乐乎社区', '芍药居', '芍药居店']\n"
     ]
    }
   ],
   "source": [
    "house = house_list[0]\n",
    "house_title = house.select(\"h2\")[0].string\n",
    "print(house_title.split())"
   ]
  },
  {
   "cell_type": "code",
   "execution_count": null,
   "metadata": {},
   "outputs": [],
   "source": []
  }
 ],
 "metadata": {
  "kernelspec": {
   "display_name": "Python 3",
   "language": "python",
   "name": "python3"
  },
  "language_info": {
   "codemirror_mode": {
    "name": "ipython",
    "version": 3
   },
   "file_extension": ".py",
   "mimetype": "text/x-python",
   "name": "python",
   "nbconvert_exporter": "python",
   "pygments_lexer": "ipython3",
   "version": "3.5.4"
  }
 },
 "nbformat": 4,
 "nbformat_minor": 2
}
