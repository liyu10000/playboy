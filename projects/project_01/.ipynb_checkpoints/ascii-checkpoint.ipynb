{
 "cells": [
  {
   "cell_type": "code",
   "execution_count": 1,
   "metadata": {},
   "outputs": [],
   "source": [
    "from PIL import Image"
   ]
  },
  {
   "cell_type": "code",
   "execution_count": 2,
   "metadata": {},
   "outputs": [],
   "source": [
    "ascii_char = list(\"$@B%8&WM#*oahkbdpqwmZO0QLCJUYXzcvunxrjft/\\|()1{}[]?-_+~<>i!lI;:,\\\"^`'. \")\n",
    "\n",
    "# 将256灰度映射到70个字符上\n",
    "def get_char(r,g,b,alpha = 256):\n",
    "    if alpha == 0:\n",
    "        return ' '\n",
    "    length = len(ascii_char)\n",
    "    gray = int(0.2126 * r + 0.7152 * g + 0.0722 * b)\n",
    "\n",
    "    unit = (256.0 + 1)/length\n",
    "    return ascii_char[int(gray/unit)]"
   ]
  },
  {
   "cell_type": "code",
   "execution_count": 3,
   "metadata": {},
   "outputs": [
    {
     "name": "stdout",
     "output_type": "stream",
     "text": [
      "                                                                                                    \n",
      "                                                                                                    \n",
      "                                              $$$$$$                                                \n",
      "                                       $$#0Jx0o#muxxx0zC$$                                          \n",
      "                                   $$mcxxxxu(    \"kxk}   \"qB$                                       \n",
      "                                 BqxxxxxxxJp      \"op     \"cxd$                                     \n",
      "                              $#cxxxxxxxxxh         n      pcxxk$                                   \n",
      "                             #uxxxxxxxxxxx>     (p\" p  (h}  #xxxxB$                                 \n",
      "                           B0xxxxxxxxxxxxx     \"\" nz#\"h\" I  nxxxxxJ$                                \n",
      "                         $@xxxxxxxxxxxxxxx     p   >pC      -qLxxxxd$                               \n",
      "                        $YxxxxxxxxxxxxxxY#(         p-      z   -odxc$                              \n",
      "                        $xxxxxxxxxxxxxc#C\"p         f CfpC  h     (ku$                              \n",
      "                       $xxxxxxxxxxxud-    \"#       C }p<^zap\"       \"8$$$                           \n",
      "                      $mxxxxxxxxxuk\"        pC  Iff }&\\   k&     }Cz>#>  C$                         \n",
      "                      YxxxxxxxxxY} -fhp}I           nokZnkk8> Ip(         \"$                        \n",
      "                     $xxxxxxxxxW>        IzpC(      \"@kkkkkO >             $                        \n",
      "                    $Jxxxxxxxxq                Izh    8akk@                p                        \n",
      "                    mxxxxxxxxW>                         C-    fppnn------  p                        \n",
      "                   $xxxxxxxxu\"    >nn-----              IO                 $                        \n",
      "                   $xxxxxxxx#                   ->       p                I                         \n",
      "                   Wxxxxxxxo>                            n     hhn-      n$                         \n",
      "                  $qxxxxxxxz      }&%%%%&pnn-I  >((      -           }nhh$                          \n",
      "                  $Jxxxxxxx      &kkkkkkkka#B%*hoW%BOn-\" -           }pI                            \n",
      "                  $Jxxxxxxc      &kkkkkko%8MkkkkkkkkaoW%hhn-I      }z#I >                           \n",
      "                  $cxxxxxxq      ok*BWokkkkkkkkkkkkkkkkkkkkkkkkkkkkkk\"  }                           \n",
      "                  $Jxxxxxx#      #kkkkkkkkkkkkkkkkkkkkkkkkkkkkkkkkkk%   C                           \n",
      "                  $Jxxxxxxo      8kkkkkkkkkkkkkkkkkkkkkkkkkkkkkkkkk%-   $                           \n",
      "                  $qxxxxxxp      CakkkkkkkkkkkkkkkkkkkkkkkkkkkkkkkkI   f$                           \n",
      "                   Wxxxxxx#       8kkkka#W8Wakkkkkkkkkkkkkkkkkkkkh8    8                            \n",
      "                   $xxxxxx#       Ikh*YfffffffQaMhkkkkkkkkkkkkkkkO     $                            \n",
      "                   $xxxxxxm        $pffffffffffffx@akkkkkkkkkkkkB     -                             \n",
      "                    mxxxxxx        \"offffffffffffffx&kkkkkkkkkkO     I$                             \n",
      "                    $cxxxxxC         bffffffffffffffxMkkkkkkka8      8                              \n",
      "                     Bxxxxxmf        \"hfffffffffffffffWkkkkka>      I                               \n",
      "                     $xxxxxu#         \"Qffffffffffffff%kkkkaW       O                               \n",
      "                      qxxxxxc          \"Offfffffffffffc8kko>       8$                               \n",
      "                      $dxxxxxh           -mffffffffffffah8\"       f                                 \n",
      "                       $xxxxxuW            I8QffffffffQ8\"        8$                                 \n",
      "                        $xxxxxx}              >z*bp*O(         >8                                   \n",
      "                         #xxxxxYh         (nh%$p    CBkkkkkkkkaWB                                   \n",
      "                          $xxxxxxC >f*%*akkkkB        ka#jIIj#kkk$                                  \n",
      "                           $JxxmWMakkkkkh*WW*\"         zbw\\1j0%-($                                  \n",
      "                            $%okkkk*8dLxxxxx-           0_IIII\\\" $                                  \n",
      "                            $kkh#Bqxxxxxxxxx            [IIpbII- *                                  \n",
      "                             BmxYxxxxxxxxxxx}           IIIhwI>  z$                                 \n",
      "                             $cxxxxxxxxxxxxx8I         pIIIX\\jh  -$                                 \n",
      "                             $JxxxxxxxxxxxxxJp        fOXIIw_h\"  >$                                 \n",
      "                             $kxxxxxxxxxxxxxx0pI     n\"   (-      #                                 \n",
      "                              $xxxxxxxxxxxJ#I   np88CphppCnnnCphpIz     $$$$                        \n",
      "                              $xxxxxxxxumkx#  pp>                pf  $#     n$                      \n",
      "                              $xxxxJqWdxxx0f  n                  nn$8         $                     \n",
      "                               xxxxxxxxxxx#\"  p                  zn(          ($                    \n",
      "                               Jxxxxxxxxxx#   OI                 hh            h                    \n",
      "                               kxxxxxxxxxx#    #                \"8\"            O                    \n",
      "                               Bxxxxxxxxxxmf    -              (pI             p                    \n",
      "                          $$$  $JxxxxxxxxxxW    \"h           \"O\"}              8                    \n",
      "                         #kkk#$$qxxxxxxxxxxxI     \"fpn->I-f#O  C$             }$                    \n",
      "                        $kkkkk%$#xxxxxxxxxxxh       \"-nCOn(    kh             C$                    \n",
      "                        $kkkkkM$#xxxxxxxxxxxxk               CkYC             $                     \n",
      "                         akkka$$Lxxxxxxxxxxxxxqh           }WxxJz            I                      \n",
      "                         $$%$$ Bxxxxxxxxxxxxxxxx08}     Ifkxxxxxh           I8                      \n",
      "                               qxxxxxxxxxxxxxxxxxxxxuJYxxxxxxxxxm           $                       \n",
      "                               JxxxxxxxxxxxxxxxxxxxxxxxxxxxxxJq##(         h                        \n",
      "                             $$xxxxxxxxxxxxxxxxxxxxxxxxxdW$$     $8      }8                         \n",
      "                           $h  xxxxxxxxxxxxxxxxxxxxxd@$            $$pp$$                           \n",
      "                           n   uxxxxxxxxxxxxxxxxx0$$                                                \n",
      "                          $    #xxxxxxxxxxxxxxJ8$                                                   \n",
      "                          $    >Wxxxxxxxxxxxd$                                                      \n",
      "                          8      kxxxxxxxxk$                                                        \n",
      "                          p      C#xxxxxxJ$                                                         \n",
      "                          $        (#0cJ#                                                           \n",
      "                          $             >$                                                          \n",
      "                          $              *                                                          \n",
      "                           n             (                                                          \n",
      "                           $O            z                                                          \n",
      "                             O\"          $                                                          \n",
      "                              $*n      p$                                                           \n",
      "                                  $$$$                                                              \n",
      "                                                                                                    \n",
      "                                                                                                    \n",
      "\n"
     ]
    }
   ],
   "source": [
    "img = Image.open(\"ascii_dora.png\")\n",
    "width,height= img.size\n",
    "if width > 100 or height > 80:\n",
    "    img = img.resize((100, 80), Image.NEAREST)\n",
    "    width = 100\n",
    "    height = 80\n",
    "txt = \"\"\n",
    "for i in range(height):\n",
    "        for j in range(width):\n",
    "            txt += get_char(*img.getpixel((j,i)))\n",
    "        txt += '\\n'\n",
    "\n",
    "print(txt)"
   ]
  },
  {
   "cell_type": "code",
   "execution_count": null,
   "metadata": {},
   "outputs": [],
   "source": []
  }
 ],
 "metadata": {
  "kernelspec": {
   "display_name": "Python 3",
   "language": "python",
   "name": "python3"
  },
  "language_info": {
   "codemirror_mode": {
    "name": "ipython",
    "version": 3
   },
   "file_extension": ".py",
   "mimetype": "text/x-python",
   "name": "python",
   "nbconvert_exporter": "python",
   "pygments_lexer": "ipython3",
   "version": "3.5.4"
  }
 },
 "nbformat": 4,
 "nbformat_minor": 2
}
