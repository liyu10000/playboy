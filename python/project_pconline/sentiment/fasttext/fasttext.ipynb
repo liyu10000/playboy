{
 "cells": [
  {
   "cell_type": "markdown",
   "metadata": {},
   "source": [
    "### fetch and save data"
   ]
  },
  {
   "cell_type": "code",
   "execution_count": 1,
   "metadata": {},
   "outputs": [
    {
     "name": "stderr",
     "output_type": "stream",
     "text": [
      "[nltk_data] Downloading package movie_reviews to\n",
      "[nltk_data]     C:\\Users\\0\\AppData\\Roaming\\nltk_data...\n",
      "[nltk_data]   Package movie_reviews is already up-to-date!\n"
     ]
    }
   ],
   "source": [
    "import random\n",
    "import pickle\n",
    "import nltk\n",
    "nltk.download('movie_reviews')\n",
    "from nltk.corpus import movie_reviews\n",
    "from nltk.corpus import stopwords"
   ]
  },
  {
   "cell_type": "code",
   "execution_count": 2,
   "metadata": {},
   "outputs": [
    {
     "name": "stdout",
     "output_type": "stream",
     "text": [
      "2000\n"
     ]
    }
   ],
   "source": [
    "reviews = [(list(movie_reviews.words(fileid)), category)\n",
    "              for category in movie_reviews.categories()\n",
    "              for fileid in movie_reviews.fileids(category)]\n",
    "print(len(reviews))"
   ]
  },
  {
   "cell_type": "code",
   "execution_count": 3,
   "metadata": {
    "collapsed": true
   },
   "outputs": [
    {
     "name": "stdout",
     "output_type": "stream",
     "text": [
      "(['synopsis', ':', 'a', 'mentally', 'unstable', 'man', 'undergoing', 'psychotherapy', 'saves', 'a', 'boy', 'from', 'a', 'potentially', 'fatal', 'accident', 'and', 'then', 'falls', 'in', 'love', 'with', 'the', 'boy', \"'\", 's', 'mother', ',', 'a', 'fledgling', 'restauranteur', '.', 'unsuccessfully', 'attempting', 'to', 'gain', 'the', 'woman', \"'\", 's', 'favor', ',', 'he', 'takes', 'pictures', 'of', 'her', 'and', 'kills', 'a', 'number', 'of', 'people', 'in', 'his', 'way', '.', 'comments', ':', 'stalked', 'is', 'yet', 'another', 'in', 'a', 'seemingly', 'endless', 'string', 'of', 'spurned', '-', 'psychos', '-', 'getting', '-', 'their', '-', 'revenge', 'type', 'movies', 'which', 'are', 'a', 'stable', 'category', 'in', 'the', '1990s', 'film', 'industry', ',', 'both', 'theatrical', 'and', 'direct', '-', 'to', '-', 'video', '.', 'their', 'proliferation', 'may', 'be', 'due', 'in', 'part', 'to', 'the', 'fact', 'that', 'they', \"'\", 're', 'typically', 'inexpensive', 'to', 'produce', '(', 'no', 'special', 'effects', ',', 'no', 'big', 'name', 'stars', ')', 'and', 'serve', 'as', 'vehicles', 'to', 'flash', 'nudity', '(', 'allowing', 'them', 'to', 'frequent', 'late', '-', 'night', 'cable', 'television', ')', '.', 'stalked', 'wavers', 'slightly', 'from', 'the', 'norm', 'in', 'one', 'respect', ':', 'the', 'psycho', 'never', 'actually', 'has', 'an', 'affair', ';', 'on', 'the', 'contrary', ',', 'he', \"'\", 's', 'rejected', 'rather', 'quickly', '(', 'the', 'psycho', 'typically', 'is', 'an', 'ex', '-', 'lover', ',', 'ex', '-', 'wife', ',', 'or', 'ex', '-', 'husband', ')', '.', 'other', 'than', 'that', ',', 'stalked', 'is', 'just', 'another', 'redundant', 'entry', 'doomed', 'to', 'collect', 'dust', 'on', 'video', 'shelves', 'and', 'viewed', 'after', 'midnight', 'on', 'cable', '.', 'stalked', 'does', 'not', 'provide', 'much', 'suspense', ',', 'though', 'that', 'is', 'what', 'it', 'sets', 'out', 'to', 'do', '.', 'interspersed', 'throughout', 'the', 'opening', 'credits', ',', 'for', 'instance', ',', 'a', 'serious', '-', 'sounding', 'narrator', 'spouts', 'statistics', 'about', 'stalkers', 'and', 'ponders', 'what', 'may', 'cause', 'a', 'man', 'to', 'stalk', '(', 'it', \"'\", 's', 'implicitly', 'implied', 'that', 'all', 'stalkers', 'are', 'men', ')', 'while', 'pictures', 'of', 'a', 'boy', 'are', 'shown', 'on', 'the', 'screen', '.', 'after', 'these', 'credits', ',', 'a', 'snapshot', 'of', 'actor', 'jay', 'underwood', 'appears', '.', 'the', 'narrator', 'states', 'that', '\"', 'this', 'is', 'the', 'story', 'of', 'daryl', 'gleason', '\"', 'and', 'tells', 'the', 'audience', 'that', 'he', 'is', 'the', 'stalker', '.', 'of', 'course', ',', 'really', ',', 'this', 'is', 'the', 'story', 'of', 'restauranteur', 'brooke', 'daniels', '.', 'if', 'the', 'movie', 'was', 'meant', 'to', 'be', 'about', 'daryl', ',', 'then', 'it', 'should', 'have', 'been', 'called', 'stalker', 'not', 'stalked', '.', 'okay', '.', 'so', 'we', 'know', 'who', 'the', 'stalker', 'is', 'even', 'before', 'the', 'movie', 'starts', ';', 'no', 'guesswork', 'required', '.', 'stalked', 'proceeds', ',', 'then', ',', 'as', 'it', 'begins', ':', 'obvious', ',', 'obvious', ',', 'obvious', '.', 'the', 'opening', 'sequence', ',', 'contrived', 'quite', 'a', 'bit', ',', 'brings', 'daryl', 'and', 'brooke', '(', 'the', 'victim', ')', 'together', '.', 'daryl', 'obsesses', 'over', 'brooke', ',', 'follows', 'her', 'around', ',', 'and', 'tries', 'to', 'woo', 'her', '.', 'ultimately', 'rejected', 'by', 'her', ',', 'his', 'plans', 'become', 'more', 'and', 'more', 'desperate', 'and', 'elaborate', '.', 'these', 'plans', 'include', 'the', 'all', '-', 'time', ',', 'psycho', '-', 'in', '-', 'love', ',', 'cliche', ':', 'the', 'murdered', 'pet', '.', 'for', 'some', 'reason', ',', 'this', 'genre', \"'\", 's', 'films', 'require', 'a', 'dead', 'pet', 'to', 'be', 'found', 'by', 'the', 'victim', 'stalked', '.', 'stalked', 'is', 'no', 'exception', '(', 'it', \"'\", 's', 'a', 'cat', 'this', 'time', '--', 'found', 'in', 'the', 'shower', ')', '.', 'events', 'like', 'these', 'lead', 'to', 'the', 'inevitable', 'showdown', 'between', 'stalker', 'and', 'stalked', ',', 'where', 'only', 'one', 'survives', '(', 'guess', 'who', 'it', 'invariably', 'always', 'is', 'and', 'you', \"'\", 'll', 'guess', 'the', 'conclusion', 'to', 'this', 'turkey', ')', '.', 'stalked', \"'\", 's', 'cast', 'is', 'uniformly', 'adequate', ':', 'not', 'anything', 'to', 'write', 'home', 'about', 'but', 'also', 'not', 'all', 'that', 'bad', 'either', '.', 'jay', 'underwood', ',', 'as', 'the', 'stalker', ',', 'turns', 'toward', 'melodrama', 'a', 'bit', 'too', 'much', '.', 'he', 'overdoes', 'it', ',', 'in', 'other', 'words', ',', 'but', 'he', 'still', 'manages', 'to', 'be', 'creepy', 'enough', 'to', 'pass', 'as', 'the', 'type', 'of', 'stalker', 'the', 'story', 'demands', '.', 'maryam', 'd', \"'\", 'abo', ',', 'about', 'the', 'only', 'actor', 'close', 'to', 'being', 'a', 'star', 'here', '(', 'she', 'played', 'the', 'bond', 'chick', 'in', 'the', 'living', 'daylights', ')', ',', 'is', 'equally', 'adequate', 'as', 'the', '\"', 'stalked', '\"', 'of', 'the', 'title', ',', 'even', 'though', 'she', 'seems', 'too', 'ditzy', 'at', 'times', 'to', 'be', 'a', 'strong', ',', 'independent', 'business', '-', 'owner', '.', 'brooke', '(', 'd', \"'\", 'abo', ')', 'needs', 'to', 'be', 'ditzy', ',', 'however', ',', 'for', 'the', 'plot', 'to', 'proceed', '.', 'toward', 'the', 'end', ',', 'for', 'example', ',', 'brooke', 'has', 'her', 'suspicions', 'about', 'daryl', '.', 'to', 'ensure', 'he', 'won', \"'\", 't', 'use', 'it', 'as', 'another', 'excuse', 'to', 'see', 'her', ',', 'brooke', 'decides', 'to', 'return', 'a', 'toolbox', 'he', 'had', 'left', 'at', 'her', 'place', 'to', 'his', 'house', '.', 'does', 'she', 'just', 'leave', 'the', 'toolbox', 'at', 'the', 'door', 'when', 'no', 'one', 'answers', '?', 'of', 'course', 'not', '.', 'she', 'tries', 'the', 'door', ',', 'opens', 'it', ',', 'and', 'wanders', 'around', 'the', 'house', '.', 'when', 'daryl', 'returns', ',', 'he', 'enters', 'the', 'house', ',', 'of', 'course', ',', 'so', 'our', 'heroine', 'is', 'in', 'danger', '.', 'somehow', ',', 'even', 'though', 'her', 'car', 'is', 'parked', 'at', 'the', 'front', 'of', 'the', 'house', ',', 'right', 'by', 'the', 'front', 'door', ',', 'daryl', 'is', 'oblivious', 'to', 'her', 'presence', 'inside', '.', 'the', 'whole', 'episode', 'places', 'an', 'incredible', 'strain', 'on', 'the', 'audience', \"'\", 's', 'suspension', 'of', 'disbelief', 'and', 'questions', 'the', 'validity', 'of', 'either', 'character', \"'\", 's', 'intelligence', '.', 'stalked', 'receives', 'two', 'stars', 'because', ',', 'even', 'though', 'it', 'is', 'highly', 'derivative', 'and', 'somewhat', 'boring', ',', 'it', 'is', 'not', 'so', 'bad', 'that', 'it', 'cannot', 'be', 'watched', '.', 'rated', 'r', 'mostly', 'for', 'several', 'murder', 'scenes', 'and', 'brief', 'nudity', 'in', 'a', 'strip', 'bar', ',', 'it', 'is', 'not', 'as', 'offensive', 'as', 'many', 'other', 'thrillers', 'in', 'this', 'genre', 'are', '.', 'if', 'you', \"'\", 're', 'in', 'the', 'mood', 'for', 'a', 'good', 'suspense', 'film', ',', 'though', ',', 'stake', 'out', 'something', 'else', '.'], 'neg')\n"
     ]
    }
   ],
   "source": [
    "print(reviews[4])"
   ]
  },
  {
   "cell_type": "code",
   "execution_count": 4,
   "metadata": {},
   "outputs": [],
   "source": [
    "random.shuffle(reviews)"
   ]
  },
  {
   "cell_type": "code",
   "execution_count": 5,
   "metadata": {},
   "outputs": [],
   "source": [
    "stop_words = stopwords.words(\"english\") + ['\\'', '-', '(', ')', ':', '\"', ';', '--']\n",
    "\n",
    "train = './fasttext-train.txt'\n",
    "f = open(train, 'w')\n",
    "\n",
    "pos_test = []\n",
    "neg_test = []\n",
    "\n",
    "nc, pc = 0, 0\n",
    "for text, tag in reviews:\n",
    "#     text = ' '.join([w.lower() for w in text if not w.lower() in stop_words])\n",
    "    text = ' '.join(text)\n",
    "    if tag == 'pos':\n",
    "        pc += 1\n",
    "        if pc <= 850:\n",
    "            f.write(\"__label__{} {}\\n\".format(tag, text))\n",
    "        else:\n",
    "            pos_test.append(text)\n",
    "    else:\n",
    "        nc += 1\n",
    "        if nc <= 850:\n",
    "            f.write(\"__label__{} {}\\n\".format(tag, text))\n",
    "        else:\n",
    "            neg_test.append(text)\n",
    "f.close()\n",
    "\n",
    "with open(\"fasttext-test.pkl\", 'wb') as f:\n",
    "    pickle.dump(pos_test, f)\n",
    "    pickle.dump(neg_test, f)"
   ]
  },
  {
   "cell_type": "markdown",
   "metadata": {},
   "source": [
    "### fastText text classification"
   ]
  },
  {
   "cell_type": "code",
   "execution_count": 6,
   "metadata": {},
   "outputs": [],
   "source": [
    "import pickle\n",
    "import fasttext"
   ]
  },
  {
   "cell_type": "code",
   "execution_count": 7,
   "metadata": {},
   "outputs": [],
   "source": [
    "model = fasttext.train_supervised(train, label_prefix='__label__', lr=1.0, minCount=2, dim=100, epoch=50, verbose=True)\n",
    "model.save_model(\"model_train.bin\")"
   ]
  },
  {
   "cell_type": "code",
   "execution_count": 8,
   "metadata": {},
   "outputs": [
    {
     "data": {
      "text/plain": [
       "(('__label__neg',), array([0.83758378]))"
      ]
     },
     "execution_count": 8,
     "metadata": {},
     "output_type": "execute_result"
    }
   ],
   "source": [
    "model.predict('this is good')"
   ]
  },
  {
   "cell_type": "code",
   "execution_count": 9,
   "metadata": {},
   "outputs": [],
   "source": [
    "def sentiscore(text):\n",
    "    return model.predict(text)[0][0].rsplit('__', 1)[1]"
   ]
  },
  {
   "cell_type": "code",
   "execution_count": 10,
   "metadata": {},
   "outputs": [],
   "source": [
    "with open(\"fasttext-test.pkl\", 'rb') as f:\n",
    "    pos_test = pickle.load(f)\n",
    "    neg_test = pickle.load(f)"
   ]
  },
  {
   "cell_type": "code",
   "execution_count": 11,
   "metadata": {},
   "outputs": [
    {
     "name": "stdout",
     "output_type": "stream",
     "text": [
      "pos right 0.86\n",
      "neg right 0.8133333333333334\n",
      "total 0.8366666666666667\n"
     ]
    }
   ],
   "source": [
    "neg_right, pos_right = 0, 0\n",
    "for t in neg_test:\n",
    "    senti = sentiscore(t)\n",
    "    if senti == 'neg':\n",
    "        neg_right += 1\n",
    "for t in pos_test:\n",
    "    senti = sentiscore(t)\n",
    "    if senti == 'pos':\n",
    "        pos_right += 1\n",
    "print('pos right', pos_right / len(pos_test))\n",
    "print('neg right', neg_right / len(neg_test))\n",
    "print('total', (pos_right + neg_right) / (len(pos_test) + len(neg_test)))"
   ]
  },
  {
   "cell_type": "code",
   "execution_count": null,
   "metadata": {},
   "outputs": [],
   "source": []
  }
 ],
 "metadata": {
  "kernelspec": {
   "display_name": "Python 3",
   "language": "python",
   "name": "python3"
  },
  "language_info": {
   "codemirror_mode": {
    "name": "ipython",
    "version": 3
   },
   "file_extension": ".py",
   "mimetype": "text/x-python",
   "name": "python",
   "nbconvert_exporter": "python",
   "pygments_lexer": "ipython3",
   "version": "3.7.3"
  }
 },
 "nbformat": 4,
 "nbformat_minor": 2
}
