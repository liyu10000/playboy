{
 "cells": [
  {
   "cell_type": "markdown",
   "metadata": {},
   "source": [
    "## jieba\n",
    " - [解决jieba分词 load_userdict 加载自定义词库太慢的问题](https://www.jianshu.com/p/dbaa4421b4ce)\n",
    " - [停用词](https://zhuanlan.zhihu.com/p/46922291)"
   ]
  },
  {
   "cell_type": "code",
   "execution_count": 1,
   "metadata": {},
   "outputs": [
    {
     "name": "stderr",
     "output_type": "stream",
     "text": [
      "Building prefix dict from the default dictionary ...\n",
      "Loading model from cache C:\\Users\\0\\AppData\\Local\\Temp\\jieba.cache\n",
      "Loading model cost 0.930 seconds.\n",
      "Prefix dict has been built succesfully.\n"
     ]
    }
   ],
   "source": [
    "import jieba\n",
    "jieba.load_userdict(\"../dict/brands.txt\")"
   ]
  },
  {
   "cell_type": "code",
   "execution_count": 2,
   "metadata": {},
   "outputs": [
    {
     "name": "stdout",
     "output_type": "stream",
     "text": [
      "OPPO|K3|上手|体验|：|千元|价位|无|对手\n"
     ]
    }
   ],
   "source": [
    "words = jieba.cut('OPPO K3上手体验：千元价位无对手'.replace(' ', ''))\n",
    "print('|'.join(words))"
   ]
  },
  {
   "cell_type": "markdown",
   "metadata": {},
   "source": [
    "### write entried to txt for jieba"
   ]
  },
  {
   "cell_type": "code",
   "execution_count": 3,
   "metadata": {},
   "outputs": [],
   "source": [
    "import pandas as pd"
   ]
  },
  {
   "cell_type": "code",
   "execution_count": 4,
   "metadata": {},
   "outputs": [
    {
     "data": {
      "text/html": [
       "<div>\n",
       "<style scoped>\n",
       "    .dataframe tbody tr th:only-of-type {\n",
       "        vertical-align: middle;\n",
       "    }\n",
       "\n",
       "    .dataframe tbody tr th {\n",
       "        vertical-align: top;\n",
       "    }\n",
       "\n",
       "    .dataframe thead th {\n",
       "        text-align: right;\n",
       "    }\n",
       "</style>\n",
       "<table border=\"1\" class=\"dataframe\">\n",
       "  <thead>\n",
       "    <tr style=\"text-align: right;\">\n",
       "      <th></th>\n",
       "      <th>product_id</th>\n",
       "      <th>品牌</th>\n",
       "      <th>产品名称</th>\n",
       "      <th>特征词</th>\n",
       "      <th>CREATE_DATE</th>\n",
       "    </tr>\n",
       "  </thead>\n",
       "  <tbody>\n",
       "    <tr>\n",
       "      <th>0</th>\n",
       "      <td>3143</td>\n",
       "      <td>摩托罗拉(Motorola)</td>\n",
       "      <td>摩托罗拉 XT1750</td>\n",
       "      <td>摩托罗拉 XT1750|摩托罗拉Watson/XT1750|摩托罗拉XT1750|Motor...</td>\n",
       "      <td>2003/3/5 0:00</td>\n",
       "    </tr>\n",
       "    <tr>\n",
       "      <th>1</th>\n",
       "      <td>8402</td>\n",
       "      <td>阿尔卡特(ALCATEL)</td>\n",
       "      <td>阿尔卡特 Idol 4 Pro</td>\n",
       "      <td>阿尔卡特 Idol 4 Pro|阿尔卡特Idol 4 Pro|ALCATEL Idol 4 ...</td>\n",
       "      <td>2003/5/21 0:00</td>\n",
       "    </tr>\n",
       "    <tr>\n",
       "      <th>2</th>\n",
       "      <td>8404</td>\n",
       "      <td>阿尔卡特(ALCATEL)</td>\n",
       "      <td>阿尔卡特 Idol 5</td>\n",
       "      <td>阿尔卡特 Idol 5|阿尔卡特Idol 5|ALCATEL Idol 5|阿尔卡特手机 I...</td>\n",
       "      <td>2003/5/21 0:00</td>\n",
       "    </tr>\n",
       "  </tbody>\n",
       "</table>\n",
       "</div>"
      ],
      "text/plain": [
       "   product_id              品牌             产品名称  \\\n",
       "0        3143  摩托罗拉(Motorola)      摩托罗拉 XT1750   \n",
       "1        8402   阿尔卡特(ALCATEL)  阿尔卡特 Idol 4 Pro   \n",
       "2        8404   阿尔卡特(ALCATEL)      阿尔卡特 Idol 5   \n",
       "\n",
       "                                                 特征词     CREATE_DATE  \n",
       "0  摩托罗拉 XT1750|摩托罗拉Watson/XT1750|摩托罗拉XT1750|Motor...   2003/3/5 0:00  \n",
       "1  阿尔卡特 Idol 4 Pro|阿尔卡特Idol 4 Pro|ALCATEL Idol 4 ...  2003/5/21 0:00  \n",
       "2  阿尔卡特 Idol 5|阿尔卡特Idol 5|ALCATEL Idol 5|阿尔卡特手机 I...  2003/5/21 0:00  "
      ]
     },
     "execution_count": 4,
     "metadata": {},
     "output_type": "execute_result"
    }
   ],
   "source": [
    "df = pd.read_csv(\"../data/手机产品.csv\", encoding='gb18030')  # encoding: gbk or utf-8 or gb18030\n",
    "df.head(3)"
   ]
  },
  {
   "cell_type": "code",
   "execution_count": 5,
   "metadata": {},
   "outputs": [],
   "source": [
    "with open('../dict/brands.txt', 'w', encoding='utf-8') as f:\n",
    "    written = set()\n",
    "    for i,row in df.iterrows():\n",
    "        brands = row['品牌']\n",
    "        if brands in written:\n",
    "            continue\n",
    "        written.add(brands)\n",
    "        f.write(\"{} 3 n\\n\".format(brands))\n",
    "        if '(' in brands:\n",
    "            brands = brands.split('(')\n",
    "            brands = [brands[0], brands[1][:-1]]\n",
    "            for brand in brands:\n",
    "                f.write(\"{} 3 n\\n\".format(brand))"
   ]
  },
  {
   "cell_type": "code",
   "execution_count": null,
   "metadata": {},
   "outputs": [],
   "source": []
  }
 ],
 "metadata": {
  "kernelspec": {
   "display_name": "Python 3",
   "language": "python",
   "name": "python3"
  },
  "language_info": {
   "codemirror_mode": {
    "name": "ipython",
    "version": 3
   },
   "file_extension": ".py",
   "mimetype": "text/x-python",
   "name": "python",
   "nbconvert_exporter": "python",
   "pygments_lexer": "ipython3",
   "version": "3.7.3"
  }
 },
 "nbformat": 4,
 "nbformat_minor": 2
}
